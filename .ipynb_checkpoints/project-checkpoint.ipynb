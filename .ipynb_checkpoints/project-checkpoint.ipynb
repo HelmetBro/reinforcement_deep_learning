{
 "cells": [
  {
   "cell_type": "markdown",
   "metadata": {},
   "source": [
    "#### Eric Parsons, Brandon Lavigne, Jordan Rayfield\n",
    "\n",
    "* Note: Ensure that when you run the model, that you click on the window as it may start out minimized in the task bar. In addition, ensure that you run `pip install gym` and `pip install gym[atari]` to download the environments."
   ]
  },
  {
   "cell_type": "markdown",
   "metadata": {},
   "source": [
    "## DDQN Models\n",
    "Below are models trained with the ddqn architecture. If you wish to change length that each network plays for, modify the seconds_to_play parameter. Each model is currently set to play for 5 seconds for a quick demonstration. The cell for each model can be run to load in a pretrained model and run the game, but there are also gifs provided below that demonstrate the same models."
   ]
  },
  {
   "cell_type": "code",
   "execution_count": null,
   "metadata": {},
   "outputs": [],
   "source": [
    "import ddqn.play as play"
   ]
  },
  {
   "cell_type": "markdown",
   "metadata": {},
   "source": [
    "### DDQN Pong\n",
    "This model was trained for 3,000,000 frames on pong with a reward function that penalizes changes in momentum. The agent only moves when neccesary to hit the ball."
   ]
  },
  {
   "cell_type": "code",
   "execution_count": null,
   "metadata": {},
   "outputs": [],
   "source": [
    "game_name = 'pong'\n",
    "env = play.create_environment(game_name)\n",
    "play.play(env, game_name, seconds_to_play=5)"
   ]
  },
  {
   "cell_type": "markdown",
   "metadata": {},
   "source": [
    "![PongUrl](https://i.imgur.com/lTvAUV4.gif)"
   ]
  },
  {
   "cell_type": "markdown",
   "metadata": {},
   "source": [
    "### DDQN Space Invaders\n",
    "This model was trained for 7,000,000 frames on space invaders. The model plays like a very skilled human player and you can see where it clearly makes attempts to shoot the mothership."
   ]
  },
  {
   "cell_type": "code",
   "execution_count": null,
   "metadata": {},
   "outputs": [],
   "source": [
    "game_name = 'space_invaders'\n",
    "env = play.create_environment(game_name)\n",
    "play.play(env, game_name, seconds_to_play=5)"
   ]
  },
  {
   "cell_type": "markdown",
   "metadata": {},
   "source": [
    "![DDQNSpaceInvaders](https://i.imgur.com/IhbWQp1.gif)"
   ]
  },
  {
   "cell_type": "markdown",
   "metadata": {},
   "source": [
    "### DDQN Breakout\n",
    "This model was trained for 7,000,000 frames on breakout. It plays quite well, but it needs more frames to fully converge. You can notice some instances of tunneling where it hits the ball behind the blocks in order to score rapidly."
   ]
  },
  {
   "cell_type": "code",
   "execution_count": null,
   "metadata": {},
   "outputs": [],
   "source": [
    "game_name = 'breakout'\n",
    "env = play.create_environment(game_name)\n",
    "play.play(env, game_name, seconds_to_play=5)"
   ]
  },
  {
   "cell_type": "markdown",
   "metadata": {},
   "source": [
    "![DDQNBreakout](https://i.imgur.com/DLVzyDs.gif)"
   ]
  },
  {
   "cell_type": "markdown",
   "metadata": {},
   "source": [
    "## A2C Models\n",
    "Running with the implemented A2C algorithm architecture plays a game session, and stopis it for you. Though for some games, the agent never loses, so to stop it, just press the `stop` button for this cell to interrupt the kernel. BUT NOTE THAT IF YOU DO THIS, YOU NEED TO RESTART THE KERNEL (tensorflow related issue). Below are gifs of the latest models, but feel free to run and modify the code to play the models natively.\n",
    "##### A2C Breakout,\n",
    "always manages to beat each generation. It realized that the most optimal path would be to dig a tunnel, as it almost always does. Near the end where they are little blocks left, it tries new things and sometimes loses a life. It's never a fatal mistake though.\n",
    "##### A2C Space Invaders,\n",
    "has amazing accuracy, but preforms similar to breakout when there's little enemies left.\n",
    "##### A2C Star Gunner,\n",
    "seems to never die. It always dodges incoming enemy bullets and plays with amazing reflexes. I've played this model on hours on end, and its never seems to lose a single life.\n",
    "##### A2C James Bond,\n",
    "has trouble getting far. This game took much to train to ensure it passes the volcanoe obsticle. It eventually passes it, and sometimes gets to the second level.\n",
    "##### A2C Pong,\n",
    "wins flawlessly every single time. Not only does it always win, but also manages to beat the opponent on a single swing, always.\n",
    "\n",
    "The amount of generations are listed below."
   ]
  },
  {
   "cell_type": "markdown",
   "metadata": {},
   "source": [
    "Breakout 105,000|Space Invaders 820,000|Star Gunner 835,000|James Bond 800,000|Pong 1,515,000\n",
    "- | - | - | - | - |\n",
    "![A2CBreakout](https://i.imgur.com/4hyRox7.gif) | ![A2CSpaceInvaders](https://i.imgur.com/r8lyu6n.gif) | ![A2CStargunner](https://i.imgur.com/zmobGTs.gif) | ![A2CJamesBond](https://i.imgur.com/lvix1lW.gif) | ![A2CPong](https://i.imgur.com/2U0v5ly.gif)"
   ]
  },
  {
   "cell_type": "markdown",
   "metadata": {},
   "source": [
    "The commands below may used to play each custom model. Refer to `A2C Models` to stop them"
   ]
  },
  {
   "cell_type": "code",
   "execution_count": null,
   "metadata": {},
   "outputs": [],
   "source": [
    "import a2c.play as play"
   ]
  },
  {
   "cell_type": "code",
   "execution_count": null,
   "metadata": {},
   "outputs": [],
   "source": [
    "play.main('BreakoutNoFrameskip-v4', 455000, 'a2c/models', 'a2c/gifs')"
   ]
  },
  {
   "cell_type": "code",
   "execution_count": null,
   "metadata": {},
   "outputs": [],
   "source": [
    "play.main('JamesbondNoFrameskip-v4', 1305000, 'a2c/models', 'a2c/gifs')"
   ]
  },
  {
   "cell_type": "code",
   "execution_count": null,
   "metadata": {},
   "outputs": [],
   "source": [
    "play.main('PongNoFrameskip-v4', 1515000, 'a2c/models', 'a2c/gifs')"
   ]
  },
  {
   "cell_type": "code",
   "execution_count": null,
   "metadata": {},
   "outputs": [],
   "source": [
    "play.main('SpaceInvadersNoFrameskip-v4', 1335000, 'a2c/models', 'a2c/gifs')"
   ]
  },
  {
   "cell_type": "code",
   "execution_count": null,
   "metadata": {},
   "outputs": [],
   "source": [
    "play.main('StarGunnerNoFrameskip-v4', 1360000, 'a2c/models', 'a2c/gifs')"
   ]
  },
  {
   "cell_type": "markdown",
   "metadata": {},
   "source": [
    "##MCPG"
   ]
  },
  {
   "cell_type": "code",
   "execution_count": 1,
   "metadata": {},
   "outputs": [
    {
     "ename": "ModuleNotFoundError",
     "evalue": "No module named 'trained_pong'",
     "output_type": "error",
     "traceback": [
      "\u001b[0;31m---------------------------------------------------------------------------\u001b[0m",
      "\u001b[0;31mModuleNotFoundError\u001b[0m                       Traceback (most recent call last)",
      "\u001b[0;32m<ipython-input-1-f9734980b87e>\u001b[0m in \u001b[0;36m<module>\u001b[0;34m\u001b[0m\n\u001b[0;32m----> 1\u001b[0;31m \u001b[0;32mimport\u001b[0m \u001b[0mtrained_pong\u001b[0m\u001b[0;34m.\u001b[0m\u001b[0mplay_game\u001b[0m \u001b[0;32mas\u001b[0m \u001b[0mplay\u001b[0m\u001b[0;34m\u001b[0m\u001b[0;34m\u001b[0m\u001b[0m\n\u001b[0m\u001b[1;32m      2\u001b[0m \u001b[0mplay\u001b[0m\u001b[0;34m(\u001b[0m\u001b[0;34m)\u001b[0m\u001b[0;34m\u001b[0m\u001b[0;34m\u001b[0m\u001b[0m\n",
      "\u001b[0;31mModuleNotFoundError\u001b[0m: No module named 'trained_pong'"
     ]
    }
   ],
   "source": [
    "import trained_pong.play_game as play\n",
    "play()"
   ]
  },
  {
   "cell_type": "code",
   "execution_count": null,
   "metadata": {},
   "outputs": [],
   "source": []
  }
 ],
 "metadata": {
  "kernelspec": {
   "display_name": "Python 3",
   "language": "python",
   "name": "python3"
  },
  "language_info": {
   "codemirror_mode": {
    "name": "ipython",
    "version": 3
   },
   "file_extension": ".py",
   "mimetype": "text/x-python",
   "name": "python",
   "nbconvert_exporter": "python",
   "pygments_lexer": "ipython3",
   "version": "3.7.2"
  }
 },
 "nbformat": 4,
 "nbformat_minor": 2
}
