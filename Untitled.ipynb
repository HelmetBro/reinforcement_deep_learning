{
 "cells": [
  {
   "cell_type": "code",
   "execution_count": 20,
   "metadata": {},
   "outputs": [
    {
     "name": "stdout",
     "output_type": "stream",
     "text": [
      "/home/eric/.local/lib/python3.6/site-packages/gym/logger.py:30: UserWarning: \u001b[33mWARN: gym.spaces.Box autodetected dtype as <class 'numpy.uint8'>. Please provide explicit dtype.\u001b[0m\n",
      "  warnings.warn(colorize('%s: %s'%('WARN', msg % args), 'yellow'))\n",
      "2019-03-16 01:56:52.013283: I tensorflow/core/platform/cpu_feature_guard.cc:141] Your CPU supports instructions that this TensorFlow binary was not compiled to use: AVX2 FMA\n",
      "2019-03-16 01:56:52.081661: I tensorflow/stream_executor/cuda/cuda_gpu_executor.cc:998] successful NUMA node read from SysFS had negative value (-1), but there must be at least one NUMA node, so returning NUMA node zero\n",
      "2019-03-16 01:56:52.082380: I tensorflow/compiler/xla/service/service.cc:150] XLA service 0x2c01c90 executing computations on platform CUDA. Devices:\n",
      "2019-03-16 01:56:52.082403: I tensorflow/compiler/xla/service/service.cc:158]   StreamExecutor device (0): GeForce GTX 1070, Compute Capability 6.1\n",
      "2019-03-16 01:56:52.101018: I tensorflow/core/platform/profile_utils/cpu_utils.cc:94] CPU Frequency: 3849505000 Hz\n",
      "2019-03-16 01:56:52.101860: I tensorflow/compiler/xla/service/service.cc:150] XLA service 0x32c4a50 executing computations on platform Host. Devices:\n",
      "2019-03-16 01:56:52.101890: I tensorflow/compiler/xla/service/service.cc:158]   StreamExecutor device (0): <undefined>, <undefined>\n",
      "2019-03-16 01:56:52.102584: I tensorflow/core/common_runtime/gpu/gpu_device.cc:1433] Found device 0 with properties: \n",
      "name: GeForce GTX 1070 major: 6 minor: 1 memoryClockRate(GHz): 1.7845\n",
      "pciBusID: 0000:20:00.0\n",
      "totalMemory: 7.92GiB freeMemory: 7.44GiB\n",
      "2019-03-16 01:56:52.102609: I tensorflow/core/common_runtime/gpu/gpu_device.cc:1512] Adding visible gpu devices: 0\n",
      "2019-03-16 01:56:52.103853: I tensorflow/core/common_runtime/gpu/gpu_device.cc:984] Device interconnect StreamExecutor with strength 1 edge matrix:\n",
      "2019-03-16 01:56:52.103871: I tensorflow/core/common_runtime/gpu/gpu_device.cc:990]      0 \n",
      "2019-03-16 01:56:52.103882: I tensorflow/core/common_runtime/gpu/gpu_device.cc:1003] 0:   N \n",
      "2019-03-16 01:56:52.104427: I tensorflow/core/common_runtime/gpu/gpu_device.cc:1115] Created TensorFlow device (/job:localhost/replica:0/task:0/device:GPU:0 with 7239 MB memory) -> physical GPU (device: 0, name: GeForce GTX 1070, pci bus id: 0000:20:00.0, compute capability: 6.1)\n",
      "WARNING:tensorflow:From /home/eric/Documents/reinforcement_deep_learning/a2c/policy.py:29: conv2d (from tensorflow.python.layers.convolutional) is deprecated and will be removed in a future version.\n",
      "Instructions for updating:\n",
      "Use keras.layers.conv2d instead.\n",
      "WARNING:tensorflow:From /home/eric/.local/lib/python3.6/site-packages/tensorflow/python/framework/op_def_library.py:263: colocate_with (from tensorflow.python.framework.ops) is deprecated and will be removed in a future version.\n",
      "Instructions for updating:\n",
      "Colocations handled automatically by placer.\n",
      "WARNING:tensorflow:From /home/eric/Documents/reinforcement_deep_learning/a2c/policy.py:47: flatten (from tensorflow.python.layers.core) is deprecated and will be removed in a future version.\n",
      "Instructions for updating:\n",
      "Use keras.layers.flatten instead.\n",
      "WARNING:tensorflow:From /home/eric/Documents/reinforcement_deep_learning/a2c/policy.py:53: dense (from tensorflow.python.layers.core) is deprecated and will be removed in a future version.\n",
      "Instructions for updating:\n",
      "Use keras.layers.dense instead.\n",
      "WARNING:tensorflow:From /home/eric/Documents/reinforcement_deep_learning/a2c/a2c.py:53: calling reduce_max_v1 (from tensorflow.python.ops.math_ops) with keep_dims is deprecated and will be removed in a future version.\n",
      "Instructions for updating:\n",
      "keep_dims is deprecated, use keepdims instead\n",
      "WARNING:tensorflow:From /home/eric/Documents/reinforcement_deep_learning/a2c/a2c.py:55: calling reduce_sum_v1 (from tensorflow.python.ops.math_ops) with keep_dims is deprecated and will be removed in a future version.\n",
      "Instructions for updating:\n",
      "keep_dims is deprecated, use keepdims instead\n",
      "WARNING:tensorflow:From /home/eric/.local/lib/python3.6/site-packages/tensorflow/python/ops/math_ops.py:3066: to_int32 (from tensorflow.python.ops.math_ops) is deprecated and will be removed in a future version.\n",
      "Instructions for updating:\n",
      "Use tf.cast instead.\n",
      "WARNING:tensorflow:From /home/eric/.local/lib/python3.6/site-packages/tensorflow/python/ops/math_grad.py:102: div (from tensorflow.python.ops.math_ops) is deprecated and will be removed in a future version.\n",
      "Instructions for updating:\n",
      "Deprecated in favor of operator or tf.math.divide.\n",
      "/home/eric/.local/lib/python3.6/site-packages/gym/logger.py:30: UserWarning: \u001b[33mWARN: <class 'atari_wrappers.FrameStack'> doesn't implement 'reset' method, but it implements deprecated '_reset' method.\u001b[0m\n",
      "  warnings.warn(colorize('%s: %s'%('WARN', msg % args), 'yellow'))\n",
      "2019-03-16 01:56:53.189631: I tensorflow/stream_executor/dso_loader.cc:152] successfully opened CUDA library libcublas.so.10.0 locally\n",
      "Traceback (most recent call last):\n",
      "  File \"a2c/play.py\", line 82, in <module>\n",
      "    main()\n",
      "  File \"a2c/play.py\", line 76, in main\n",
      "    imageio.mimsave(name, renders, duration=1/30)\n",
      "  File \"/home/eric/.local/lib/python3.6/site-packages/imageio/core/functions.py\", line 336, in mimwrite\n",
      "    writer = get_writer(uri, format, \"I\", **kwargs)\n",
      "  File \"/home/eric/.local/lib/python3.6/site-packages/imageio/core/functions.py\", line 174, in get_writer\n",
      "    request = Request(uri, \"w\" + mode, **kwargs)\n",
      "  File \"/home/eric/.local/lib/python3.6/site-packages/imageio/core/request.py\", line 126, in __init__\n",
      "    self._parse_uri(uri)\n",
      "  File \"/home/eric/.local/lib/python3.6/site-packages/imageio/core/request.py\", line 283, in _parse_uri\n",
      "    raise FileNotFoundError(\"The directory %r does not exist\" % dn)\n",
      "FileNotFoundError: The directory '/home/eric/Documents/reinforcement_deep_learning/gifs' does not exist\n"
     ]
    }
   ],
   "source": [
    "!python3 a2c/play.py -e PongNoFrameskip-v4 -v 1515000 -l a2c/models"
   ]
  },
  {
   "cell_type": "code",
   "execution_count": null,
   "metadata": {},
   "outputs": [],
   "source": []
  }
 ],
 "metadata": {
  "kernelspec": {
   "display_name": "Python 3",
   "language": "python",
   "name": "python3"
  },
  "language_info": {
   "codemirror_mode": {
    "name": "ipython",
    "version": 3
   },
   "file_extension": ".py",
   "mimetype": "text/x-python",
   "name": "python",
   "nbconvert_exporter": "python",
   "pygments_lexer": "ipython3",
   "version": "3.6.7"
  }
 },
 "nbformat": 4,
 "nbformat_minor": 2
}
